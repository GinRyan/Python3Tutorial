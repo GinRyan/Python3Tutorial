{
 "cells": [
  {
   "cell_type": "markdown",
   "metadata": {},
   "source": [
    "## 6.面向对象编程"
   ]
  },
  {
   "cell_type": "code",
   "execution_count": 22,
   "metadata": {},
   "outputs": [],
   "source": [
    "\n",
    "class Student(object):\n",
    "    \n",
    "    #构造函数初始化器\n",
    "    #初始化器第一个参数必须是self\n",
    "    #self指向的是当前已创建对象的指针\n",
    "    def __init__(self, name, score,sex):\n",
    "        self.name = name\n",
    "        self.score = score\n",
    "        self.__sex = sex\n",
    "    #方法当中必须有self参数用于指向自己\n",
    "    def print_score(self):\n",
    "        print('%s: %s is %s' % (self.name, self.score,self.__sex))\n",
    "        \n",
    "    def get_grade(self):\n",
    "        if self.score >= 90:\n",
    "            return 'A'\n",
    "        elif self.score >= 60:\n",
    "            return 'B'\n",
    "        else:\n",
    "            return 'C'\n"
   ]
  },
  {
   "cell_type": "code",
   "execution_count": 25,
   "metadata": {},
   "outputs": [
    {
     "name": "stdout",
     "output_type": "stream",
     "text": [
      "Bart Simpson: 79 is 男\n",
      "Lisa Simpson: 87 is 女\n"
     ]
    },
    {
     "data": {
      "text/plain": [
       "'B'"
      ]
     },
     "execution_count": 25,
     "metadata": {},
     "output_type": "execute_result"
    }
   ],
   "source": [
    "#定义学生对象\n",
    "bart = Student('Bart Simpson', 59,'男')\n",
    "lisa = Student('Lisa Simpson', 87,'女')\n",
    "bart.score = 79\n",
    "# __双下划线开头的变量不能外部访问\n",
    "#bart.__sex = '女'\n",
    "bart.print_score()\n",
    "lisa.print_score()\n",
    "lisa.get_grade()"
   ]
  },
  {
   "cell_type": "code",
   "execution_count": null,
   "metadata": {},
   "outputs": [],
   "source": []
  }
 ],
 "metadata": {
  "kernelspec": {
   "display_name": "Python 3",
   "language": "python",
   "name": "python3"
  },
  "language_info": {
   "codemirror_mode": {
    "name": "ipython",
    "version": 3
   },
   "file_extension": ".py",
   "mimetype": "text/x-python",
   "name": "python",
   "nbconvert_exporter": "python",
   "pygments_lexer": "ipython3",
   "version": "3.4.8"
  }
 },
 "nbformat": 4,
 "nbformat_minor": 2
}
