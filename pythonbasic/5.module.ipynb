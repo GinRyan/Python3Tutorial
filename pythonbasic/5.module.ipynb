{
 "cells": [
  {
   "cell_type": "markdown",
   "metadata": {},
   "source": [
    "## 包、模块、第三方库\n",
    "一个.py文件就是一个模块(module)，一个目录可以用来组织模块，称为包(package)\n",
    "要指定一个目录是package，必须在这个目录下防止一个`__init__.py`，否则这个目录不会看作Python的包。`__init__.py`本身就是一个模块，这个模块名称就是所在目录的名称，模块可以有多级目录结构。"
   ]
  },
  {
   "cell_type": "markdown",
   "metadata": {},
   "source": [
    "如果一个包`mylib`下，存在`json.py`文件并存在`web`目录，该目录下存在`www.py`文件和，那么也就是`/mylib/json.py`和`/mylib/web/www.py`目录结构，那么模块名分别是`mylib.json`和`mylib.web.www`, 导入时，使用`import`关键字"
   ]
  },
  {
   "cell_type": "code",
   "execution_count": 1,
   "metadata": {},
   "outputs": [],
   "source": [
    "#导入标准库模块\n",
    "import math\n",
    "import functools"
   ]
  },
  {
   "cell_type": "code",
   "execution_count": 2,
   "metadata": {},
   "outputs": [],
   "source": [
    "#导入自定义模块\n",
    "import absdemo"
   ]
  },
  {
   "cell_type": "code",
   "execution_count": 6,
   "metadata": {},
   "outputs": [
    {
     "data": {
      "text/plain": [
       "10"
      ]
     },
     "execution_count": 6,
     "metadata": {},
     "output_type": "execute_result"
    }
   ],
   "source": [
    "#使用自定义模块中的代码\n",
    "absdemo.myExtAbs(10)"
   ]
  },
  {
   "cell_type": "code",
   "execution_count": null,
   "metadata": {},
   "outputs": [],
   "source": [
    "#!/usr/bin/env python3\n",
    "# -*- coding: utf-8 -*-\n",
    "\n",
    "' a test module '\n",
    "\n",
    "__author__ = 'Michael Liao'\n",
    "\n",
    "import sys\n",
    "\n",
    "def test():\n",
    "    args = sys.argv\n",
    "    if len(args)==1:\n",
    "        print('Hello, world!')\n",
    "    elif len(args)==2:\n",
    "        print('Hello, %s!' % args[1])\n",
    "    else:\n",
    "        print('Too many arguments!')\n",
    "\n",
    "if __name__=='__main__':\n",
    "    test()\n",
    "\n",
    "#这一段是可以直接存成py文件并且直接执行的\n"
   ]
  },
  {
   "cell_type": "markdown",
   "metadata": {},
   "source": [
    "以上代码`__author__`变量时标注该文件作者，`import sys`时使用该模块并且有个sys同名的变量可以使用，`sys`有一个`list`类型`argv`变量，可以访问命令行执行时的所有参数，第一个参数永远时该.py文件名称，\n",
    "例如运行`python3 hello.py` 获得的`sys.argv`就是`['hello.py']`；"
   ]
  },
  {
   "cell_type": "markdown",
   "metadata": {},
   "source": [
    "```python\n",
    "if __name__=='__main__':\n",
    "    test()\n",
    "```\n",
    "这两行代码，Python解释器会把`__name__`属性置为`__main__`，从别处导入该模块时，`if`判断会失败，将不会执行内部代码，因此，这种做法可以在模块通过命令行时执行一些额外代码，比如测试、显示命令提示等。"
   ]
  },
  {
   "cell_type": "markdown",
   "metadata": {},
   "source": [
    "## 作用域"
   ]
  },
  {
   "cell_type": "markdown",
   "metadata": {},
   "source": [
    "没有`_`开头的变量都是公开可访问变量，而有一个`_`开头的变量是仅模块内访问的变量（或函数）\n",
    "变量开头结尾都是双`_`的变量是特殊变量，例如`__name__`，可以直接引用，但是用途特殊，\n",
    "我们尽量不使用这种变量名。\n",
    "\n"
   ]
  },
  {
   "cell_type": "markdown",
   "metadata": {},
   "source": [
    "## 第三方包 和 模块"
   ]
  },
  {
   "cell_type": "markdown",
   "metadata": {},
   "source": [
    "使用`pip install [库名称]`"
   ]
  },
  {
   "cell_type": "markdown",
   "metadata": {},
   "source": [
    "## 模块搜索路径\n",
    "通过sys.path这个变量获取搜索目录有哪些"
   ]
  },
  {
   "cell_type": "code",
   "execution_count": 10,
   "metadata": {},
   "outputs": [
    {
     "data": {
      "text/plain": [
       "['',\n",
       " '/usr/lib64/python34.zip',\n",
       " '/usr/lib64/python3.4',\n",
       " '/usr/lib64/python3.4/plat-linux',\n",
       " '/usr/lib64/python3.4/lib-dynload',\n",
       " '/usr/lib64/python3.4/site-packages',\n",
       " '/usr/lib/python3.4/site-packages',\n",
       " '/usr/lib/python3.4/site-packages/IPython/extensions',\n",
       " '/home/liang/.ipython']"
      ]
     },
     "execution_count": 10,
     "metadata": {},
     "output_type": "execute_result"
    }
   ],
   "source": [
    "import sys\n",
    "sys.path"
   ]
  },
  {
   "cell_type": "markdown",
   "metadata": {},
   "source": [
    "可以通过`sys.path.append('/Users/michael/my_py_scripts')`这种方式增加搜索目录，不过仅在运行时有效。"
   ]
  },
  {
   "cell_type": "code",
   "execution_count": null,
   "metadata": {},
   "outputs": [],
   "source": []
  }
 ],
 "metadata": {
  "kernelspec": {
   "display_name": "Python 3",
   "language": "python",
   "name": "python3"
  },
  "language_info": {
   "codemirror_mode": {
    "name": "ipython",
    "version": 3
   },
   "file_extension": ".py",
   "mimetype": "text/x-python",
   "name": "python",
   "nbconvert_exporter": "python",
   "pygments_lexer": "ipython3",
   "version": "3.4.8"
  }
 },
 "nbformat": 4,
 "nbformat_minor": 2
}
